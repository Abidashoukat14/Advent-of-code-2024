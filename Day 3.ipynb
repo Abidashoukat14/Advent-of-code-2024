{
 "cells": [
  {
   "cell_type": "code",
   "execution_count": 63,
   "id": "a870b56a-d7d8-4c12-9dcd-792caae717e3",
   "metadata": {},
   "outputs": [
    {
     "name": "stdout",
     "output_type": "stream",
     "text": [
      "190604937\n",
      "82857512\n"
     ]
    }
   ],
   "source": [
    "import re\n",
    "data=[]\n",
    "with open('balaaa.txt','r') as f:\n",
    "    data= f.read()\n",
    "   \n",
    "pattern=r\"mul\\(\\d\\d?\\d?,\\d\\d?\\d?\\)\" \n",
    "def get_result(s):\n",
    "    result=0\n",
    "    for m in re.findall(pattern,s):\n",
    "        l,r=m.split(',')\n",
    "        result+= int(l[4:])*int(r[:-1])\n",
    "    return result\n",
    "    \n",
    "#part 1\n",
    "print(get_result(data))\n",
    "clean_data=[]\n",
    "i=0\n",
    "do = True\n",
    "'don\\'t'\n",
    "while i< len(data):\n",
    "    if do:\n",
    "        if data[i:i+5] == 'don\\'t' :\n",
    "            do=False\n",
    "            i+=5\n",
    "        else:\n",
    "            clean_data.append(data[i])\n",
    "            i+=1\n",
    "    else:\n",
    "        if data[i:i+2] == 'do' and data[i:i+5] != 'don\\'t' :\n",
    "            do=True\n",
    "            i+=2\n",
    "        else:\n",
    "            i +=1\n",
    "clean_data=''.join(clean_data)\n",
    "# part 2\n",
    "print(get_result(clean_data))\n",
    "            \n",
    "\n",
    "    \n",
    "    \n"
   ]
  },
  {
   "cell_type": "code",
   "execution_count": null,
   "id": "2f127da1-82f9-4c4a-95a9-9d6a0140147f",
   "metadata": {},
   "outputs": [],
   "source": []
  }
 ],
 "metadata": {
  "kernelspec": {
   "display_name": "Python 3 (ipykernel)",
   "language": "python",
   "name": "python3"
  },
  "language_info": {
   "codemirror_mode": {
    "name": "ipython",
    "version": 3
   },
   "file_extension": ".py",
   "mimetype": "text/x-python",
   "name": "python",
   "nbconvert_exporter": "python",
   "pygments_lexer": "ipython3",
   "version": "3.12.4"
  }
 },
 "nbformat": 4,
 "nbformat_minor": 5
}
