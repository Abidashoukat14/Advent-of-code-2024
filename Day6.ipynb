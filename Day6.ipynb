{
 "cells": [
  {
   "cell_type": "code",
   "execution_count": 6,
   "id": "86aef350-d80c-4c05-8851-1ce37ae44b82",
   "metadata": {},
   "outputs": [
    {
     "ename": "TypeError",
     "evalue": "pos() takes no arguments",
     "output_type": "error",
     "traceback": [
      "\u001b[1;31m---------------------------------------------------------------------------\u001b[0m",
      "\u001b[1;31mTypeError\u001b[0m                                 Traceback (most recent call last)",
      "Cell \u001b[1;32mIn[6], line 24\u001b[0m\n\u001b[0;32m     22\u001b[0m     \u001b[38;5;28;01mdef\u001b[39;00m \u001b[38;5;21mrotate_right\u001b[39m(\u001b[38;5;28mself\u001b[39m):\n\u001b[0;32m     23\u001b[0m         \u001b[38;5;28;01mreturn\u001b[39;00m pos(\u001b[38;5;28mself\u001b[39m\u001b[38;5;241m.\u001b[39mj , \u001b[38;5;241m-\u001b[39m\u001b[38;5;28mself\u001b[39m\u001b[38;5;241m.\u001b[39mi)\n\u001b[1;32m---> 24\u001b[0m pos\u001b[38;5;241m=\u001b[39mpos(start[\u001b[38;5;241m0\u001b[39m],start[\u001b[38;5;241m1\u001b[39m])\n\u001b[0;32m     25\u001b[0m direction\u001b[38;5;241m=\u001b[39m pos(\u001b[38;5;241m-\u001b[39m\u001b[38;5;241m1\u001b[39m,\u001b[38;5;241m0\u001b[39m) \u001b[38;5;66;03m#up\u001b[39;00m\n\u001b[0;32m     26\u001b[0m visited \u001b[38;5;241m=\u001b[39m \u001b[38;5;28mset\u001b[39m()\n",
      "\u001b[1;31mTypeError\u001b[0m: pos() takes no arguments"
     ]
    }
   ],
   "source": [
    "grid=[]\n",
    "with open('Day6input.txt','r') as f:\n",
    "    for i,line in enumerate(f.readlines()):\n",
    "        row = line.strip()\n",
    "        if '^' in row:\n",
    "            start = (i,row.find('^'))\n",
    "            row = row.replace('^','.')\n",
    "        grid.append(row)\n",
    "n=len(grid)\n",
    "m=len(grid[0])\n",
    "\n",
    "# @dataclass(frozen=True)        \n",
    "class Pos:\n",
    "    i:int\n",
    "    j:int\n",
    "    def __add__(self,other):\n",
    "        return Pos(self.i + other.i , self.j + other.j)\n",
    "    def __eq__(self,other):\n",
    "        return (self.i , self.j) == (other.i , other.j)\n",
    "    def __hash__(self):\n",
    "        return hash((self.i , self.j))\n",
    "    def rotate_right(self):\n",
    "        return pos(self.j , -self.i)\n",
    "pos=Pos(start[0],start[1])\n",
    "direction= Pos(-1,0) #up\n",
    "visited = set()\n",
    "def is_inbounds(p):\n",
    "    return 0<= p.i < n and 0<= p.j < m\n",
    "while is_inbounds(pos):\n",
    "    visited.add(pos)\n",
    "    # try to take a step\n",
    "    dest = pos + direction\n",
    "    if is_inbounds(dest) and grid[dest.i][dest.j] == '#':\n",
    "        # turn right\n",
    "        direction = direction.rotate_right()\n",
    "    else:\n",
    "        # step forward\n",
    "        pos = dest\n",
    "print(len(visited))        \n",
    "        \n",
    "        \n"
   ]
  },
  {
   "cell_type": "code",
   "execution_count": null,
   "id": "022c052a-54af-497c-9662-202995e3b6a3",
   "metadata": {},
   "outputs": [],
   "source": []
  },
  {
   "cell_type": "code",
   "execution_count": null,
   "id": "066be997-867e-4fa3-aa05-8010734fcb31",
   "metadata": {},
   "outputs": [],
   "source": []
  }
 ],
 "metadata": {
  "kernelspec": {
   "display_name": "Python 3 (ipykernel)",
   "language": "python",
   "name": "python3"
  },
  "language_info": {
   "codemirror_mode": {
    "name": "ipython",
    "version": 3
   },
   "file_extension": ".py",
   "mimetype": "text/x-python",
   "name": "python",
   "nbconvert_exporter": "python",
   "pygments_lexer": "ipython3",
   "version": "3.12.4"
  }
 },
 "nbformat": 4,
 "nbformat_minor": 5
}
